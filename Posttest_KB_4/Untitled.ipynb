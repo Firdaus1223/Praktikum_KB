{
 "cells": [
  {
   "cell_type": "code",
   "execution_count": 5,
   "id": "a7b1e52f-fe29-4806-8f51-94a7d10acd1a",
   "metadata": {},
   "outputs": [],
   "source": [
    "import pandas as pd\n",
    "import numpy as np\n",
    "import matplotlib.pyplot as plt\n",
    "from sklearn.preprocessing import MinMaxScaler\n",
    "from sklearn.model_selection import train_test_split\n",
    "from sklearn.preprocessing import StandardScaler\n",
    "from sklearn.impute import SimpleImputer\n",
    "from sklearn.preprocessing import OrdinalEncoder\n",
    "from sklearn.preprocessing import OneHotEncoder"
   ]
  },
  {
   "cell_type": "markdown",
   "id": "9db6951a-608a-4b92-a3a3-74181a4891c3",
   "metadata": {},
   "source": [
    "mengimport library yang dibutuhkan untuk menjalakannya."
   ]
  },
  {
   "cell_type": "code",
   "execution_count": 6,
   "id": "fe4c7fff-757f-4bcf-87b5-c98c85626f71",
   "metadata": {},
   "outputs": [
    {
     "name": "stdout",
     "output_type": "stream",
     "text": [
      "<class 'pandas.core.frame.DataFrame'>\n",
      "RangeIndex: 2259 entries, 0 to 2258\n",
      "Data columns (total 21 columns):\n",
      " #   Column                    Non-Null Count  Dtype  \n",
      "---  ------                    --------------  -----  \n",
      " 0   ID                        2259 non-null   int64  \n",
      " 1   YEAR                      2259 non-null   int64  \n",
      " 2   MONTH                     2155 non-null   float64\n",
      " 3   DAY                       2082 non-null   float64\n",
      " 4   HOUR                      1308 non-null   float64\n",
      " 5   MINUTE                    1235 non-null   float64\n",
      " 6   LATITUDE                  2259 non-null   float64\n",
      " 7   LONGITUDE                 2259 non-null   float64\n",
      " 8   LOCATION_NAME             2250 non-null   object \n",
      " 9   COUNTRY                   2259 non-null   object \n",
      " 10  REGION                    2258 non-null   object \n",
      " 11  CAUSE                     2258 non-null   object \n",
      " 12  EVENT_VALIDITY            2259 non-null   object \n",
      " 13  EQ_MAGNITUDE              1474 non-null   float64\n",
      " 14  EQ_DEPTH                  907 non-null    float64\n",
      " 15  TS_INTENSITY              1101 non-null   float64\n",
      " 16  DAMAGE_TOTAL_DESCRIPTION  1055 non-null   object \n",
      " 17  HOUSES_TOTAL_DESCRIPTION  606 non-null    object \n",
      " 18  DEATHS_TOTAL_DESCRIPTION  674 non-null    object \n",
      " 19  URL                       2259 non-null   object \n",
      " 20  COMMENTS                  2095 non-null   object \n",
      "dtypes: float64(9), int64(2), object(10)\n",
      "memory usage: 370.7+ KB\n"
     ]
    }
   ],
   "source": [
    "df = pd.read_csv(\"tsunami_dataset.csv\")\n",
    "df.info()"
   ]
  },
  {
   "cell_type": "markdown",
   "id": "b1238117-fc3f-4ee0-86f1-9a849dbaa3c1",
   "metadata": {},
   "source": [
    "### membagi dua variabel yaitu x dan y\n",
    "Bagi dataset menjadi training set dan testing set dengan proporsi 70:30"
   ]
  },
  {
   "cell_type": "code",
   "execution_count": 7,
   "id": "5fa5dbfd-ecb9-42a1-b8f0-b37cf3d2af03",
   "metadata": {},
   "outputs": [
    {
     "name": "stdout",
     "output_type": "stream",
     "text": [
      "Pembagian Dataset Tsunami_dataset.csv : \n",
      "Dimensi X_train (1581, 20)\n",
      "Dimensi X_test (678, 20)\n",
      "Dimensi y_train (1581,)\n",
      "Dimensi y_test (678,)\n"
     ]
    }
   ],
   "source": [
    "x = df.iloc[:, : -1]\n",
    "y = df.iloc[:, -1]\n",
    "x_train, x_test, y_train, y_test = train_test_split(x, y, test_size=0.3)\n",
    "print(\"Pembagian Dataset Tsunami_dataset.csv : \")\n",
    "print(\"Dimensi X_train\", x_train.shape)\n",
    "print(\"Dimensi X_test\", x_test.shape)\n",
    "print(\"Dimensi y_train\", y_train.shape)\n",
    "print(\"Dimensi y_test\", y_test.shape)\n"
   ]
  },
  {
   "cell_type": "markdown",
   "id": "a34de8bb-5e22-4311-abbf-e6f478ccce5f",
   "metadata": {},
   "source": [
    "### Normalisasi\n",
    "Lakukan normalisasi data pada salah satu attribute menggunakan Min Max scaler"
   ]
  },
  {
   "cell_type": "code",
   "execution_count": 8,
   "id": "b6220f7c-e5ff-42c2-b4a9-0ccd3fdb4746",
   "metadata": {},
   "outputs": [
    {
     "data": {
      "text/html": [
       "<div>\n",
       "<style scoped>\n",
       "    .dataframe tbody tr th:only-of-type {\n",
       "        vertical-align: middle;\n",
       "    }\n",
       "\n",
       "    .dataframe tbody tr th {\n",
       "        vertical-align: top;\n",
       "    }\n",
       "\n",
       "    .dataframe thead th {\n",
       "        text-align: right;\n",
       "    }\n",
       "</style>\n",
       "<table border=\"1\" class=\"dataframe\">\n",
       "  <thead>\n",
       "    <tr style=\"text-align: right;\">\n",
       "      <th></th>\n",
       "      <th>YEAR</th>\n",
       "      <th>Year_normalization</th>\n",
       "    </tr>\n",
       "  </thead>\n",
       "  <tbody>\n",
       "    <tr>\n",
       "      <th>0</th>\n",
       "      <td>-330</td>\n",
       "      <td>0.415423</td>\n",
       "    </tr>\n",
       "    <tr>\n",
       "      <th>1</th>\n",
       "      <td>1764</td>\n",
       "      <td>0.936318</td>\n",
       "    </tr>\n",
       "    <tr>\n",
       "      <th>2</th>\n",
       "      <td>859</td>\n",
       "      <td>0.711194</td>\n",
       "    </tr>\n",
       "    <tr>\n",
       "      <th>3</th>\n",
       "      <td>1580</td>\n",
       "      <td>0.890547</td>\n",
       "    </tr>\n",
       "    <tr>\n",
       "      <th>4</th>\n",
       "      <td>-1300</td>\n",
       "      <td>0.174129</td>\n",
       "    </tr>\n",
       "  </tbody>\n",
       "</table>\n",
       "</div>"
      ],
      "text/plain": [
       "   YEAR  Year_normalization\n",
       "0  -330            0.415423\n",
       "1  1764            0.936318\n",
       "2   859            0.711194\n",
       "3  1580            0.890547\n",
       "4 -1300            0.174129"
      ]
     },
     "execution_count": 8,
     "metadata": {},
     "output_type": "execute_result"
    }
   ],
   "source": [
    "data = df[[\"YEAR\"]]\n",
    "data.columns = [\"YEAR\"]\n",
    "min_max_scaler = MinMaxScaler()\n",
    "arr = min_max_scaler.fit_transform(data[[\"YEAR\"]])\n",
    "data_normalisasi = pd.DataFrame(arr)\n",
    "data_normalisasi.columns =[\"Year_normalization\"]\n",
    "data = data.join(data_normalisasi[\"Year_normalization\"]).reset_index()\n",
    "data = data.drop(\"index\", axis=1)\n",
    "data.head()"
   ]
  },
  {
   "cell_type": "markdown",
   "id": "56bb797f-b88e-4823-9f75-c1b3d903b93d",
   "metadata": {},
   "source": [
    "### Standarisasi\n",
    "Lakukan standarisasi pada dataset."
   ]
  },
  {
   "cell_type": "code",
   "execution_count": 9,
   "id": "d23661a5-3dfd-4018-8db9-7ef8444a5bff",
   "metadata": {},
   "outputs": [
    {
     "name": "stdout",
     "output_type": "stream",
     "text": [
      "<===Perbandingan sebelum melakukan  standar devirasi : ===>\n"
     ]
    },
    {
     "data": {
      "text/plain": [
       "ID              1664.805803\n",
       "YEAR             354.003306\n",
       "MONTH              3.459295\n",
       "DAY                8.654889\n",
       "HOUR               6.976920\n",
       "MINUTE            17.216186\n",
       "LATITUDE          27.724706\n",
       "LONGITUDE        104.582214\n",
       "EQ_MAGNITUDE       0.795855\n",
       "EQ_DEPTH          41.075884\n",
       "TS_INTENSITY       1.839963\n",
       "dtype: float64"
      ]
     },
     "execution_count": 9,
     "metadata": {},
     "output_type": "execute_result"
    }
   ],
   "source": [
    "data_standarisasi = df.select_dtypes(include='number')\n",
    "\n",
    "standard_scaler = StandardScaler()\n",
    "arrStandarisasi = standard_scaler.fit_transform(data_standarisasi)\n",
    "dfStandarisasi = pd.DataFrame(arrStandarisasi)\n",
    "dfStandarisasi.columns = [\"IDS\", \"YEARS\", \"MONTHS\", \"DAYS\", \"HOURS\", \"MINUTES\", \"EQ_MAGNITUDES\", \"EQ_DEPTHS\", \"TS_INTENSITYS\", \"LATITUDES\", \"LONGITUDES\" ]\n",
    "\n",
    "print(\"<===Perbandingan sebelum melakukan  standar devirasi : ===>\")\n",
    "np.std(data_standarisasi)"
   ]
  },
  {
   "cell_type": "code",
   "execution_count": 10,
   "id": "76857f0c-db4a-45c5-b186-7c7510d5b5bb",
   "metadata": {},
   "outputs": [
    {
     "name": "stdout",
     "output_type": "stream",
     "text": [
      "<===Perbandingan sesudah melakukan standar devirasi : ===>\n"
     ]
    },
    {
     "data": {
      "text/plain": [
       "IDS              1.0\n",
       "YEARS            1.0\n",
       "MONTHS           1.0\n",
       "DAYS             1.0\n",
       "HOURS            1.0\n",
       "MINUTES          1.0\n",
       "EQ_MAGNITUDES    1.0\n",
       "EQ_DEPTHS        1.0\n",
       "TS_INTENSITYS    1.0\n",
       "LATITUDES        1.0\n",
       "LONGITUDES       1.0\n",
       "dtype: float64"
      ]
     },
     "execution_count": 10,
     "metadata": {},
     "output_type": "execute_result"
    }
   ],
   "source": [
    "print(\"<===Perbandingan sesudah melakukan standar devirasi : ===>\")\n",
    "np.std(dfStandarisasi)"
   ]
  },
  {
   "cell_type": "markdown",
   "id": "8dc58669-e815-4288-86fd-d3c9be894d08",
   "metadata": {},
   "source": [
    "### Data Cleaning\n",
    "Lakukan Data cleaning pada data dengan nilai null (jika tidak ada nilai null pada dataset, maka buatlah menjadi ada). Ganti nilai null sesuai ketentuan. (bilangan bulat : median/modus, bilangan desimal : mean, tulisan : modus). Nilai plus jika strategy yang digunakan menggunakan 3 nilai"
   ]
  },
  {
   "cell_type": "code",
   "execution_count": 11,
   "id": "4c66941f-8fab-4a3b-b301-31932feba731",
   "metadata": {},
   "outputs": [
    {
     "data": {
      "text/html": [
       "<div>\n",
       "<style scoped>\n",
       "    .dataframe tbody tr th:only-of-type {\n",
       "        vertical-align: middle;\n",
       "    }\n",
       "\n",
       "    .dataframe tbody tr th {\n",
       "        vertical-align: top;\n",
       "    }\n",
       "\n",
       "    .dataframe thead th {\n",
       "        text-align: right;\n",
       "    }\n",
       "</style>\n",
       "<table border=\"1\" class=\"dataframe\">\n",
       "  <thead>\n",
       "    <tr style=\"text-align: right;\">\n",
       "      <th></th>\n",
       "      <th>ID</th>\n",
       "      <th>YEAR</th>\n",
       "      <th>MONTH</th>\n",
       "      <th>DAY</th>\n",
       "      <th>HOUR</th>\n",
       "      <th>MINUTE</th>\n",
       "      <th>LATITUDE</th>\n",
       "      <th>LONGITUDE</th>\n",
       "      <th>EQ_MAGNITUDE</th>\n",
       "      <th>EQ_DEPTH</th>\n",
       "      <th>TS_INTENSITY</th>\n",
       "    </tr>\n",
       "  </thead>\n",
       "  <tbody>\n",
       "    <tr>\n",
       "      <th>0</th>\n",
       "      <td>12.0</td>\n",
       "      <td>-330.0</td>\n",
       "      <td>NaN</td>\n",
       "      <td>NaN</td>\n",
       "      <td>NaN</td>\n",
       "      <td>NaN</td>\n",
       "      <td>40.00</td>\n",
       "      <td>25.000</td>\n",
       "      <td>7.0</td>\n",
       "      <td>NaN</td>\n",
       "      <td>NaN</td>\n",
       "    </tr>\n",
       "    <tr>\n",
       "      <th>1</th>\n",
       "      <td>481.0</td>\n",
       "      <td>1764.0</td>\n",
       "      <td>2.0</td>\n",
       "      <td>11.0</td>\n",
       "      <td>NaN</td>\n",
       "      <td>NaN</td>\n",
       "      <td>51.45</td>\n",
       "      <td>-2.583</td>\n",
       "      <td>NaN</td>\n",
       "      <td>NaN</td>\n",
       "      <td>NaN</td>\n",
       "    </tr>\n",
       "    <tr>\n",
       "      <th>2</th>\n",
       "      <td>71.0</td>\n",
       "      <td>859.0</td>\n",
       "      <td>NaN</td>\n",
       "      <td>NaN</td>\n",
       "      <td>NaN</td>\n",
       "      <td>NaN</td>\n",
       "      <td>36.08</td>\n",
       "      <td>36.250</td>\n",
       "      <td>NaN</td>\n",
       "      <td>NaN</td>\n",
       "      <td>3.0</td>\n",
       "    </tr>\n",
       "    <tr>\n",
       "      <th>3</th>\n",
       "      <td>186.0</td>\n",
       "      <td>1580.0</td>\n",
       "      <td>1.0</td>\n",
       "      <td>NaN</td>\n",
       "      <td>NaN</td>\n",
       "      <td>NaN</td>\n",
       "      <td>40.00</td>\n",
       "      <td>128.000</td>\n",
       "      <td>NaN</td>\n",
       "      <td>NaN</td>\n",
       "      <td>1.0</td>\n",
       "    </tr>\n",
       "    <tr>\n",
       "      <th>4</th>\n",
       "      <td>5.0</td>\n",
       "      <td>-1300.0</td>\n",
       "      <td>NaN</td>\n",
       "      <td>NaN</td>\n",
       "      <td>NaN</td>\n",
       "      <td>NaN</td>\n",
       "      <td>39.96</td>\n",
       "      <td>26.240</td>\n",
       "      <td>6.0</td>\n",
       "      <td>NaN</td>\n",
       "      <td>5.0</td>\n",
       "    </tr>\n",
       "  </tbody>\n",
       "</table>\n",
       "</div>"
      ],
      "text/plain": [
       "      ID    YEAR  MONTH   DAY  HOUR  MINUTE  LATITUDE  LONGITUDE  \\\n",
       "0   12.0  -330.0    NaN   NaN   NaN     NaN     40.00     25.000   \n",
       "1  481.0  1764.0    2.0  11.0   NaN     NaN     51.45     -2.583   \n",
       "2   71.0   859.0    NaN   NaN   NaN     NaN     36.08     36.250   \n",
       "3  186.0  1580.0    1.0   NaN   NaN     NaN     40.00    128.000   \n",
       "4    5.0 -1300.0    NaN   NaN   NaN     NaN     39.96     26.240   \n",
       "\n",
       "   EQ_MAGNITUDE  EQ_DEPTH  TS_INTENSITY  \n",
       "0           7.0       NaN           NaN  \n",
       "1           NaN       NaN           NaN  \n",
       "2           NaN       NaN           3.0  \n",
       "3           NaN       NaN           1.0  \n",
       "4           6.0       NaN           5.0  "
      ]
     },
     "execution_count": 11,
     "metadata": {},
     "output_type": "execute_result"
    }
   ],
   "source": [
    "import random\n",
    "\n",
    "dfBroken = df.select_dtypes(include='number')\n",
    "ix = [(row, col) for row in range(dfBroken.shape[0]) for col in range(dfBroken.shape[1])]\n",
    "for row, col in random.sample(ix, int(round(.1*len(ix)))):\n",
    "    dfBroken.iat[row, col] = np.nan\n",
    "    \n",
    "dfBroken.head()"
   ]
  },
  {
   "cell_type": "code",
   "execution_count": 12,
   "id": "6f5b5370-1324-4cad-83bb-caf0d8925617",
   "metadata": {},
   "outputs": [
    {
     "data": {
      "text/plain": [
       "ID               206\n",
       "YEAR             234\n",
       "MONTH            317\n",
       "DAY              379\n",
       "HOUR            1099\n",
       "MINUTE          1155\n",
       "LATITUDE         210\n",
       "LONGITUDE        247\n",
       "EQ_MAGNITUDE     951\n",
       "EQ_DEPTH        1436\n",
       "TS_INTENSITY    1270\n",
       "dtype: int64"
      ]
     },
     "execution_count": 12,
     "metadata": {},
     "output_type": "execute_result"
    }
   ],
   "source": [
    "dfBroken.isna().sum()"
   ]
  },
  {
   "cell_type": "markdown",
   "id": "22059572-2851-40d3-b695-462006cd48ce",
   "metadata": {},
   "source": [
    "### Cara Mengatasi Nilai Null"
   ]
  },
  {
   "cell_type": "code",
   "execution_count": 13,
   "id": "8cc3c5dc-87e0-4508-b86d-d439dc5ff45c",
   "metadata": {},
   "outputs": [
    {
     "data": {
      "text/plain": [
       "ID              float64\n",
       "YEAR            float64\n",
       "MONTH           float64\n",
       "DAY             float64\n",
       "HOUR            float64\n",
       "MINUTE          float64\n",
       "LATITUDE        float64\n",
       "LONGITUDE       float64\n",
       "EQ_MAGNITUDE    float64\n",
       "EQ_DEPTH        float64\n",
       "TS_INTENSITY    float64\n",
       "dtype: object"
      ]
     },
     "execution_count": 13,
     "metadata": {},
     "output_type": "execute_result"
    }
   ],
   "source": [
    "dfBroken.dtypes"
   ]
  },
  {
   "cell_type": "code",
   "execution_count": 14,
   "id": "fa81f229-282c-417f-9c43-6afacfea1e68",
   "metadata": {},
   "outputs": [
    {
     "name": "stdout",
     "output_type": "stream",
     "text": [
      "dateset yang sudah dibersihkan : \n",
      "\n"
     ]
    },
    {
     "data": {
      "text/plain": [
       "IDS              0\n",
       "YEARS            0\n",
       "MONTHS           0\n",
       "DAYS             0\n",
       "HOURS            0\n",
       "MINUTES          0\n",
       "EQ_MAGNITUDES    0\n",
       "EQ_DEPTHS        0\n",
       "TS_INTENSITYS    0\n",
       "LATITUDES        0\n",
       "LONGITUDES       0\n",
       "dtype: int64"
      ]
     },
     "execution_count": 14,
     "metadata": {},
     "output_type": "execute_result"
    }
   ],
   "source": [
    "imputer = SimpleImputer(strategy = \"mean\")\n",
    "arr = imputer.fit_transform(dfBroken)\n",
    "dfSubtitusi = pd.DataFrame(arr)\n",
    "dfSubtitusi.columns = [\"IDS\", \"YEARS\", \"MONTHS\", \"DAYS\", \"HOURS\", \"MINUTES\", \"EQ_MAGNITUDES\", \"EQ_DEPTHS\", \"TS_INTENSITYS\", \"LATITUDES\", \"LONGITUDES\" ]\n",
    "print(\"dateset yang sudah dibersihkan : \\n\")\n",
    "dfSubtitusi.isna().sum()"
   ]
  },
  {
   "cell_type": "code",
   "execution_count": 24,
   "id": "a7603d27-6d79-4166-b6d5-58213521aff1",
   "metadata": {},
   "outputs": [
    {
     "data": {
      "text/html": [
       "<div>\n",
       "<style scoped>\n",
       "    .dataframe tbody tr th:only-of-type {\n",
       "        vertical-align: middle;\n",
       "    }\n",
       "\n",
       "    .dataframe tbody tr th {\n",
       "        vertical-align: top;\n",
       "    }\n",
       "\n",
       "    .dataframe thead th {\n",
       "        text-align: right;\n",
       "    }\n",
       "</style>\n",
       "<table border=\"1\" class=\"dataframe\">\n",
       "  <thead>\n",
       "    <tr style=\"text-align: right;\">\n",
       "      <th></th>\n",
       "      <th>IDS</th>\n",
       "      <th>YEARS</th>\n",
       "      <th>MONTHS</th>\n",
       "      <th>DAYS</th>\n",
       "      <th>HOURS</th>\n",
       "      <th>MINUTES</th>\n",
       "      <th>EQ_MAGNITUDES</th>\n",
       "      <th>EQ_DEPTHS</th>\n",
       "      <th>TS_INTENSITYS</th>\n",
       "      <th>LATITUDES</th>\n",
       "      <th>LONGITUDES</th>\n",
       "    </tr>\n",
       "  </thead>\n",
       "  <tbody>\n",
       "    <tr>\n",
       "      <th>0</th>\n",
       "      <td>12.0</td>\n",
       "      <td>-330.000000</td>\n",
       "      <td>6.654995</td>\n",
       "      <td>15.789362</td>\n",
       "      <td>11.35</td>\n",
       "      <td>28.341486</td>\n",
       "      <td>40.000000</td>\n",
       "      <td>25.000000</td>\n",
       "      <td>7.000000</td>\n",
       "      <td>36.577157</td>\n",
       "      <td>1.383782</td>\n",
       "    </tr>\n",
       "    <tr>\n",
       "      <th>1</th>\n",
       "      <td>481.0</td>\n",
       "      <td>1764.000000</td>\n",
       "      <td>2.000000</td>\n",
       "      <td>11.000000</td>\n",
       "      <td>11.35</td>\n",
       "      <td>28.341486</td>\n",
       "      <td>51.450000</td>\n",
       "      <td>-2.583000</td>\n",
       "      <td>7.044037</td>\n",
       "      <td>36.577157</td>\n",
       "      <td>1.383782</td>\n",
       "    </tr>\n",
       "    <tr>\n",
       "      <th>2</th>\n",
       "      <td>71.0</td>\n",
       "      <td>859.000000</td>\n",
       "      <td>6.654995</td>\n",
       "      <td>15.789362</td>\n",
       "      <td>11.35</td>\n",
       "      <td>28.341486</td>\n",
       "      <td>36.080000</td>\n",
       "      <td>36.250000</td>\n",
       "      <td>7.044037</td>\n",
       "      <td>36.577157</td>\n",
       "      <td>3.000000</td>\n",
       "    </tr>\n",
       "    <tr>\n",
       "      <th>3</th>\n",
       "      <td>186.0</td>\n",
       "      <td>1580.000000</td>\n",
       "      <td>1.000000</td>\n",
       "      <td>15.789362</td>\n",
       "      <td>11.35</td>\n",
       "      <td>28.341486</td>\n",
       "      <td>40.000000</td>\n",
       "      <td>128.000000</td>\n",
       "      <td>7.044037</td>\n",
       "      <td>36.577157</td>\n",
       "      <td>1.000000</td>\n",
       "    </tr>\n",
       "    <tr>\n",
       "      <th>4</th>\n",
       "      <td>5.0</td>\n",
       "      <td>-1300.000000</td>\n",
       "      <td>6.654995</td>\n",
       "      <td>15.789362</td>\n",
       "      <td>11.35</td>\n",
       "      <td>28.341486</td>\n",
       "      <td>39.960000</td>\n",
       "      <td>26.240000</td>\n",
       "      <td>6.000000</td>\n",
       "      <td>36.577157</td>\n",
       "      <td>5.000000</td>\n",
       "    </tr>\n",
       "    <tr>\n",
       "      <th>5</th>\n",
       "      <td>22.0</td>\n",
       "      <td>-47.000000</td>\n",
       "      <td>9.000000</td>\n",
       "      <td>15.789362</td>\n",
       "      <td>11.35</td>\n",
       "      <td>28.341486</td>\n",
       "      <td>37.500000</td>\n",
       "      <td>119.500000</td>\n",
       "      <td>7.044037</td>\n",
       "      <td>36.577157</td>\n",
       "      <td>1.383782</td>\n",
       "    </tr>\n",
       "    <tr>\n",
       "      <th>6</th>\n",
       "      <td>174.0</td>\n",
       "      <td>1556.000000</td>\n",
       "      <td>10.000000</td>\n",
       "      <td>21.000000</td>\n",
       "      <td>11.35</td>\n",
       "      <td>28.341486</td>\n",
       "      <td>17.094879</td>\n",
       "      <td>126.000000</td>\n",
       "      <td>7.044037</td>\n",
       "      <td>36.577157</td>\n",
       "      <td>0.500000</td>\n",
       "    </tr>\n",
       "    <tr>\n",
       "      <th>7</th>\n",
       "      <td>255.0</td>\n",
       "      <td>1641.000000</td>\n",
       "      <td>12.000000</td>\n",
       "      <td>21.000000</td>\n",
       "      <td>11.35</td>\n",
       "      <td>28.341486</td>\n",
       "      <td>38.400000</td>\n",
       "      <td>40.558279</td>\n",
       "      <td>7.044037</td>\n",
       "      <td>36.577157</td>\n",
       "      <td>1.383782</td>\n",
       "    </tr>\n",
       "    <tr>\n",
       "      <th>8</th>\n",
       "      <td>427.0</td>\n",
       "      <td>1818.606914</td>\n",
       "      <td>6.654995</td>\n",
       "      <td>15.789362</td>\n",
       "      <td>11.35</td>\n",
       "      <td>28.341486</td>\n",
       "      <td>33.100000</td>\n",
       "      <td>139.800000</td>\n",
       "      <td>7.044037</td>\n",
       "      <td>36.577157</td>\n",
       "      <td>0.500000</td>\n",
       "    </tr>\n",
       "    <tr>\n",
       "      <th>9</th>\n",
       "      <td>219.0</td>\n",
       "      <td>1606.000000</td>\n",
       "      <td>1.000000</td>\n",
       "      <td>23.000000</td>\n",
       "      <td>11.35</td>\n",
       "      <td>28.341486</td>\n",
       "      <td>31.900000</td>\n",
       "      <td>40.558279</td>\n",
       "      <td>7.044037</td>\n",
       "      <td>36.577157</td>\n",
       "      <td>1.383782</td>\n",
       "    </tr>\n",
       "    <tr>\n",
       "      <th>10</th>\n",
       "      <td>480.0</td>\n",
       "      <td>1763.000000</td>\n",
       "      <td>9.000000</td>\n",
       "      <td>18.000000</td>\n",
       "      <td>11.35</td>\n",
       "      <td>28.341486</td>\n",
       "      <td>50.600000</td>\n",
       "      <td>-2.466000</td>\n",
       "      <td>7.044037</td>\n",
       "      <td>36.577157</td>\n",
       "      <td>1.383782</td>\n",
       "    </tr>\n",
       "    <tr>\n",
       "      <th>11</th>\n",
       "      <td>368.0</td>\n",
       "      <td>1704.000000</td>\n",
       "      <td>6.654995</td>\n",
       "      <td>15.789362</td>\n",
       "      <td>11.35</td>\n",
       "      <td>28.341486</td>\n",
       "      <td>33.600000</td>\n",
       "      <td>136.000000</td>\n",
       "      <td>7.044037</td>\n",
       "      <td>36.577157</td>\n",
       "      <td>1.000000</td>\n",
       "    </tr>\n",
       "    <tr>\n",
       "      <th>12</th>\n",
       "      <td>470.0</td>\n",
       "      <td>1761.000000</td>\n",
       "      <td>8.000000</td>\n",
       "      <td>14.000000</td>\n",
       "      <td>11.35</td>\n",
       "      <td>28.341486</td>\n",
       "      <td>49.465000</td>\n",
       "      <td>-2.585000</td>\n",
       "      <td>7.044037</td>\n",
       "      <td>36.577157</td>\n",
       "      <td>1.383782</td>\n",
       "    </tr>\n",
       "    <tr>\n",
       "      <th>13</th>\n",
       "      <td>472.0</td>\n",
       "      <td>1762.000000</td>\n",
       "      <td>5.000000</td>\n",
       "      <td>26.000000</td>\n",
       "      <td>11.35</td>\n",
       "      <td>28.341486</td>\n",
       "      <td>60.383000</td>\n",
       "      <td>40.558279</td>\n",
       "      <td>7.044037</td>\n",
       "      <td>36.577157</td>\n",
       "      <td>1.383782</td>\n",
       "    </tr>\n",
       "    <tr>\n",
       "      <th>14</th>\n",
       "      <td>277.0</td>\n",
       "      <td>1653.000000</td>\n",
       "      <td>6.654995</td>\n",
       "      <td>15.789362</td>\n",
       "      <td>11.35</td>\n",
       "      <td>28.341486</td>\n",
       "      <td>38.400000</td>\n",
       "      <td>-27.100000</td>\n",
       "      <td>7.044037</td>\n",
       "      <td>36.577157</td>\n",
       "      <td>1.383782</td>\n",
       "    </tr>\n",
       "    <tr>\n",
       "      <th>15</th>\n",
       "      <td>302.0</td>\n",
       "      <td>1668.000000</td>\n",
       "      <td>11.000000</td>\n",
       "      <td>23.000000</td>\n",
       "      <td>11.35</td>\n",
       "      <td>28.341486</td>\n",
       "      <td>38.500000</td>\n",
       "      <td>-28.100000</td>\n",
       "      <td>7.044037</td>\n",
       "      <td>36.577157</td>\n",
       "      <td>1.383782</td>\n",
       "    </tr>\n",
       "    <tr>\n",
       "      <th>16</th>\n",
       "      <td>403.0</td>\n",
       "      <td>1732.000000</td>\n",
       "      <td>6.654995</td>\n",
       "      <td>15.789362</td>\n",
       "      <td>11.35</td>\n",
       "      <td>28.341486</td>\n",
       "      <td>33.100000</td>\n",
       "      <td>139.767000</td>\n",
       "      <td>7.044037</td>\n",
       "      <td>36.577157</td>\n",
       "      <td>1.383782</td>\n",
       "    </tr>\n",
       "    <tr>\n",
       "      <th>17</th>\n",
       "      <td>97.0</td>\n",
       "      <td>1099.000000</td>\n",
       "      <td>11.000000</td>\n",
       "      <td>11.000000</td>\n",
       "      <td>11.35</td>\n",
       "      <td>28.341486</td>\n",
       "      <td>50.116000</td>\n",
       "      <td>-5.483000</td>\n",
       "      <td>7.044037</td>\n",
       "      <td>36.577157</td>\n",
       "      <td>1.383782</td>\n",
       "    </tr>\n",
       "    <tr>\n",
       "      <th>18</th>\n",
       "      <td>81.0</td>\n",
       "      <td>975.000000</td>\n",
       "      <td>6.654995</td>\n",
       "      <td>15.789362</td>\n",
       "      <td>11.35</td>\n",
       "      <td>28.341486</td>\n",
       "      <td>17.094879</td>\n",
       "      <td>28.980000</td>\n",
       "      <td>7.044037</td>\n",
       "      <td>36.577157</td>\n",
       "      <td>1.383782</td>\n",
       "    </tr>\n",
       "    <tr>\n",
       "      <th>19</th>\n",
       "      <td>130.0</td>\n",
       "      <td>1818.606914</td>\n",
       "      <td>8.000000</td>\n",
       "      <td>23.000000</td>\n",
       "      <td>11.35</td>\n",
       "      <td>28.341486</td>\n",
       "      <td>38.000000</td>\n",
       "      <td>40.558279</td>\n",
       "      <td>7.044037</td>\n",
       "      <td>36.577157</td>\n",
       "      <td>0.000000</td>\n",
       "    </tr>\n",
       "  </tbody>\n",
       "</table>\n",
       "</div>"
      ],
      "text/plain": [
       "      IDS        YEARS     MONTHS       DAYS  HOURS    MINUTES  EQ_MAGNITUDES  \\\n",
       "0    12.0  -330.000000   6.654995  15.789362  11.35  28.341486      40.000000   \n",
       "1   481.0  1764.000000   2.000000  11.000000  11.35  28.341486      51.450000   \n",
       "2    71.0   859.000000   6.654995  15.789362  11.35  28.341486      36.080000   \n",
       "3   186.0  1580.000000   1.000000  15.789362  11.35  28.341486      40.000000   \n",
       "4     5.0 -1300.000000   6.654995  15.789362  11.35  28.341486      39.960000   \n",
       "5    22.0   -47.000000   9.000000  15.789362  11.35  28.341486      37.500000   \n",
       "6   174.0  1556.000000  10.000000  21.000000  11.35  28.341486      17.094879   \n",
       "7   255.0  1641.000000  12.000000  21.000000  11.35  28.341486      38.400000   \n",
       "8   427.0  1818.606914   6.654995  15.789362  11.35  28.341486      33.100000   \n",
       "9   219.0  1606.000000   1.000000  23.000000  11.35  28.341486      31.900000   \n",
       "10  480.0  1763.000000   9.000000  18.000000  11.35  28.341486      50.600000   \n",
       "11  368.0  1704.000000   6.654995  15.789362  11.35  28.341486      33.600000   \n",
       "12  470.0  1761.000000   8.000000  14.000000  11.35  28.341486      49.465000   \n",
       "13  472.0  1762.000000   5.000000  26.000000  11.35  28.341486      60.383000   \n",
       "14  277.0  1653.000000   6.654995  15.789362  11.35  28.341486      38.400000   \n",
       "15  302.0  1668.000000  11.000000  23.000000  11.35  28.341486      38.500000   \n",
       "16  403.0  1732.000000   6.654995  15.789362  11.35  28.341486      33.100000   \n",
       "17   97.0  1099.000000  11.000000  11.000000  11.35  28.341486      50.116000   \n",
       "18   81.0   975.000000   6.654995  15.789362  11.35  28.341486      17.094879   \n",
       "19  130.0  1818.606914   8.000000  23.000000  11.35  28.341486      38.000000   \n",
       "\n",
       "     EQ_DEPTHS  TS_INTENSITYS  LATITUDES  LONGITUDES  \n",
       "0    25.000000       7.000000  36.577157    1.383782  \n",
       "1    -2.583000       7.044037  36.577157    1.383782  \n",
       "2    36.250000       7.044037  36.577157    3.000000  \n",
       "3   128.000000       7.044037  36.577157    1.000000  \n",
       "4    26.240000       6.000000  36.577157    5.000000  \n",
       "5   119.500000       7.044037  36.577157    1.383782  \n",
       "6   126.000000       7.044037  36.577157    0.500000  \n",
       "7    40.558279       7.044037  36.577157    1.383782  \n",
       "8   139.800000       7.044037  36.577157    0.500000  \n",
       "9    40.558279       7.044037  36.577157    1.383782  \n",
       "10   -2.466000       7.044037  36.577157    1.383782  \n",
       "11  136.000000       7.044037  36.577157    1.000000  \n",
       "12   -2.585000       7.044037  36.577157    1.383782  \n",
       "13   40.558279       7.044037  36.577157    1.383782  \n",
       "14  -27.100000       7.044037  36.577157    1.383782  \n",
       "15  -28.100000       7.044037  36.577157    1.383782  \n",
       "16  139.767000       7.044037  36.577157    1.383782  \n",
       "17   -5.483000       7.044037  36.577157    1.383782  \n",
       "18   28.980000       7.044037  36.577157    1.383782  \n",
       "19   40.558279       7.044037  36.577157    0.000000  "
      ]
     },
     "execution_count": 24,
     "metadata": {},
     "output_type": "execute_result"
    }
   ],
   "source": [
    "dfSubtitusi.head(20) "
   ]
  },
  {
   "cell_type": "code",
   "execution_count": 16,
   "id": "f4e8e52a-ed50-4183-9ea4-d3fbe32a71e8",
   "metadata": {},
   "outputs": [
    {
     "data": {
      "text/plain": [
       "0       False\n",
       "1       False\n",
       "2       False\n",
       "3       False\n",
       "4       False\n",
       "        ...  \n",
       "4513     True\n",
       "4514     True\n",
       "4515     True\n",
       "4516     True\n",
       "4517     True\n",
       "Length: 4518, dtype: bool"
      ]
     },
     "execution_count": 16,
     "metadata": {},
     "output_type": "execute_result"
    }
   ],
   "source": [
    "dfDouble = pd.concat([df]*2, ignore_index=True)\n",
    "dfDouble.duplicated()"
   ]
  },
  {
   "cell_type": "code",
   "execution_count": 17,
   "id": "92803d75-dbcc-4dc4-a027-47980c3db9ef",
   "metadata": {},
   "outputs": [
    {
     "name": "stdout",
     "output_type": "stream",
     "text": [
      "junmlah dataset yang sudah di duplikat :\n"
     ]
    },
    {
     "data": {
      "text/plain": [
       "2259"
      ]
     },
     "execution_count": 17,
     "metadata": {},
     "output_type": "execute_result"
    }
   ],
   "source": [
    "print(\"jumlah dataset yang duplikat :\")\n",
    "dfDouble.duplicated().sum()"
   ]
  },
  {
   "cell_type": "markdown",
   "id": "2244bf7d-7bca-40de-82ea-3d3b4b970bfa",
   "metadata": {},
   "source": [
    "### Cara Mengatasi Data yang Duplikat"
   ]
  },
  {
   "cell_type": "code",
   "execution_count": 26,
   "id": "1f762709-4e6e-44e3-8d2e-419ca16d2204",
   "metadata": {},
   "outputs": [
    {
     "name": "stdout",
     "output_type": "stream",
     "text": [
      "jumlah dataset yang sudah dibersihkan duplikat :\n"
     ]
    },
    {
     "data": {
      "text/plain": [
       "0"
      ]
     },
     "execution_count": 26,
     "metadata": {},
     "output_type": "execute_result"
    }
   ],
   "source": [
    "dfDouble.drop_duplicates(inplace=True)\n",
    "dfDouble.duplicated()\n",
    "print(\"jumlah dataset yang sudah dibersihkan duplikat :\")\n",
    "dfDouble.duplicated().sum()"
   ]
  },
  {
   "cell_type": "markdown",
   "id": "d200cd05-670e-4551-90bc-458d6aec6beb",
   "metadata": {},
   "source": [
    "### Mengubah tipe data dari salah satu angka di dataset"
   ]
  },
  {
   "cell_type": "code",
   "execution_count": 27,
   "id": "b55d1896-f6a1-432a-868f-e764eb011949",
   "metadata": {},
   "outputs": [
    {
     "name": "stdout",
     "output_type": "stream",
     "text": [
      "data keseluruhan :\n"
     ]
    },
    {
     "data": {
      "text/plain": [
       "ID                            int64\n",
       "YEAR                          int64\n",
       "MONTH                       float64\n",
       "DAY                         float64\n",
       "HOUR                        float64\n",
       "MINUTE                      float64\n",
       "LATITUDE                    float64\n",
       "LONGITUDE                   float64\n",
       "LOCATION_NAME                object\n",
       "COUNTRY                      object\n",
       "REGION                       object\n",
       "CAUSE                        object\n",
       "EVENT_VALIDITY               object\n",
       "EQ_MAGNITUDE                float64\n",
       "EQ_DEPTH                    float64\n",
       "TS_INTENSITY                float64\n",
       "DAMAGE_TOTAL_DESCRIPTION     object\n",
       "HOUSES_TOTAL_DESCRIPTION     object\n",
       "DEATHS_TOTAL_DESCRIPTION     object\n",
       "URL                          object\n",
       "COMMENTS                     object\n",
       "dtype: object"
      ]
     },
     "execution_count": 27,
     "metadata": {},
     "output_type": "execute_result"
    }
   ],
   "source": [
    "print(\"data keseluruhan :\")\n",
    "df.dtypes"
   ]
  },
  {
   "cell_type": "code",
   "execution_count": 20,
   "id": "30e6597e-db51-46d2-a156-b457eaa58113",
   "metadata": {},
   "outputs": [
    {
     "name": "stdout",
     "output_type": "stream",
     "text": [
      "<== sebelum ==>\n"
     ]
    },
    {
     "data": {
      "text/plain": [
       "dtype('int64')"
      ]
     },
     "execution_count": 20,
     "metadata": {},
     "output_type": "execute_result"
    }
   ],
   "source": [
    "print(\"<== sebelum ==>\")\n",
    "df[\"YEAR\"].dtypes"
   ]
  },
  {
   "cell_type": "code",
   "execution_count": 21,
   "id": "3f593973-92cd-49e9-9e34-000bde28618c",
   "metadata": {},
   "outputs": [
    {
     "name": "stdout",
     "output_type": "stream",
     "text": [
      "<== sesudah ==>\n"
     ]
    },
    {
     "data": {
      "text/plain": [
       "dtype('O')"
      ]
     },
     "execution_count": 21,
     "metadata": {},
     "output_type": "execute_result"
    }
   ],
   "source": [
    "print(\"<== sesudah ==>\")\n",
    "dfSesudah = df[[\"YEAR\"]].astype(\"object\")\n",
    "dfSesudah[\"YEAR\"].dtypes"
   ]
  },
  {
   "cell_type": "markdown",
   "id": "dde66961-1d32-41df-9b75-d454c8a6da8f",
   "metadata": {},
   "source": [
    "### One Hot Encoding"
   ]
  },
  {
   "cell_type": "code",
   "execution_count": 22,
   "id": "eb6aa31c-ae77-4000-9457-8f9aa21eb435",
   "metadata": {},
   "outputs": [
    {
     "data": {
      "text/plain": [
       "Index(['ID', 'YEAR', 'MONTH', 'DAY', 'HOUR', 'MINUTE', 'LATITUDE', 'LONGITUDE',\n",
       "       'LOCATION_NAME', 'COUNTRY', 'REGION', 'CAUSE', 'EVENT_VALIDITY',\n",
       "       'EQ_MAGNITUDE', 'EQ_DEPTH', 'TS_INTENSITY', 'DAMAGE_TOTAL_DESCRIPTION',\n",
       "       'HOUSES_TOTAL_DESCRIPTION', 'DEATHS_TOTAL_DESCRIPTION', 'URL',\n",
       "       'COMMENTS'],\n",
       "      dtype='object')"
      ]
     },
     "execution_count": 22,
     "metadata": {},
     "output_type": "execute_result"
    }
   ],
   "source": [
    "df.columns"
   ]
  },
  {
   "cell_type": "code",
   "execution_count": 23,
   "id": "3a674fa4-3161-4410-b912-7ff1c21f7bad",
   "metadata": {},
   "outputs": [
    {
     "data": {
      "text/html": [
       "<div>\n",
       "<style scoped>\n",
       "    .dataframe tbody tr th:only-of-type {\n",
       "        vertical-align: middle;\n",
       "    }\n",
       "\n",
       "    .dataframe tbody tr th {\n",
       "        vertical-align: top;\n",
       "    }\n",
       "\n",
       "    .dataframe thead th {\n",
       "        text-align: right;\n",
       "    }\n",
       "</style>\n",
       "<table border=\"1\" class=\"dataframe\">\n",
       "  <thead>\n",
       "    <tr style=\"text-align: right;\">\n",
       "      <th></th>\n",
       "      <th>ID</th>\n",
       "      <th>YEAR</th>\n",
       "      <th>MONTH</th>\n",
       "      <th>DAY</th>\n",
       "      <th>HOUR</th>\n",
       "      <th>MINUTE</th>\n",
       "      <th>LATITUDE</th>\n",
       "      <th>LONGITUDE</th>\n",
       "      <th>LOCATION_NAME</th>\n",
       "      <th>COUNTRY</th>\n",
       "      <th>...</th>\n",
       "      <th>13</th>\n",
       "      <th>14</th>\n",
       "      <th>15</th>\n",
       "      <th>16</th>\n",
       "      <th>17</th>\n",
       "      <th>18</th>\n",
       "      <th>19</th>\n",
       "      <th>20</th>\n",
       "      <th>21</th>\n",
       "      <th>22</th>\n",
       "    </tr>\n",
       "  </thead>\n",
       "  <tbody>\n",
       "    <tr>\n",
       "      <th>0</th>\n",
       "      <td>12</td>\n",
       "      <td>-330</td>\n",
       "      <td>NaN</td>\n",
       "      <td>NaN</td>\n",
       "      <td>NaN</td>\n",
       "      <td>NaN</td>\n",
       "      <td>40.00</td>\n",
       "      <td>25.000</td>\n",
       "      <td>E. SPORADES ISLANDS, AEGEAN ISLANDS</td>\n",
       "      <td>GREECE</td>\n",
       "      <td>...</td>\n",
       "      <td>0.0</td>\n",
       "      <td>0.0</td>\n",
       "      <td>0.0</td>\n",
       "      <td>0.0</td>\n",
       "      <td>0.0</td>\n",
       "      <td>0.0</td>\n",
       "      <td>0.0</td>\n",
       "      <td>0.0</td>\n",
       "      <td>0.0</td>\n",
       "      <td>0.0</td>\n",
       "    </tr>\n",
       "    <tr>\n",
       "      <th>1</th>\n",
       "      <td>481</td>\n",
       "      <td>1764</td>\n",
       "      <td>2.0</td>\n",
       "      <td>11.0</td>\n",
       "      <td>NaN</td>\n",
       "      <td>NaN</td>\n",
       "      <td>51.45</td>\n",
       "      <td>-2.583</td>\n",
       "      <td>BRISTOL, ENGLAND</td>\n",
       "      <td>UK</td>\n",
       "      <td>...</td>\n",
       "      <td>0.0</td>\n",
       "      <td>1.0</td>\n",
       "      <td>0.0</td>\n",
       "      <td>0.0</td>\n",
       "      <td>0.0</td>\n",
       "      <td>0.0</td>\n",
       "      <td>0.0</td>\n",
       "      <td>0.0</td>\n",
       "      <td>0.0</td>\n",
       "      <td>0.0</td>\n",
       "    </tr>\n",
       "    <tr>\n",
       "      <th>2</th>\n",
       "      <td>71</td>\n",
       "      <td>859</td>\n",
       "      <td>NaN</td>\n",
       "      <td>NaN</td>\n",
       "      <td>NaN</td>\n",
       "      <td>NaN</td>\n",
       "      <td>36.08</td>\n",
       "      <td>36.250</td>\n",
       "      <td>SAMANDAGI</td>\n",
       "      <td>TURKEY</td>\n",
       "      <td>...</td>\n",
       "      <td>0.0</td>\n",
       "      <td>0.0</td>\n",
       "      <td>0.0</td>\n",
       "      <td>0.0</td>\n",
       "      <td>0.0</td>\n",
       "      <td>0.0</td>\n",
       "      <td>0.0</td>\n",
       "      <td>0.0</td>\n",
       "      <td>0.0</td>\n",
       "      <td>0.0</td>\n",
       "    </tr>\n",
       "    <tr>\n",
       "      <th>3</th>\n",
       "      <td>186</td>\n",
       "      <td>1580</td>\n",
       "      <td>1.0</td>\n",
       "      <td>NaN</td>\n",
       "      <td>NaN</td>\n",
       "      <td>NaN</td>\n",
       "      <td>40.00</td>\n",
       "      <td>128.000</td>\n",
       "      <td>YELLOW SEA</td>\n",
       "      <td>NORTH KOREA</td>\n",
       "      <td>...</td>\n",
       "      <td>0.0</td>\n",
       "      <td>0.0</td>\n",
       "      <td>0.0</td>\n",
       "      <td>0.0</td>\n",
       "      <td>0.0</td>\n",
       "      <td>0.0</td>\n",
       "      <td>0.0</td>\n",
       "      <td>0.0</td>\n",
       "      <td>0.0</td>\n",
       "      <td>0.0</td>\n",
       "    </tr>\n",
       "    <tr>\n",
       "      <th>4</th>\n",
       "      <td>5</td>\n",
       "      <td>-1300</td>\n",
       "      <td>NaN</td>\n",
       "      <td>NaN</td>\n",
       "      <td>NaN</td>\n",
       "      <td>NaN</td>\n",
       "      <td>39.96</td>\n",
       "      <td>26.240</td>\n",
       "      <td>IONIAN COASTS, TROAD</td>\n",
       "      <td>TURKEY</td>\n",
       "      <td>...</td>\n",
       "      <td>0.0</td>\n",
       "      <td>0.0</td>\n",
       "      <td>0.0</td>\n",
       "      <td>0.0</td>\n",
       "      <td>0.0</td>\n",
       "      <td>0.0</td>\n",
       "      <td>0.0</td>\n",
       "      <td>0.0</td>\n",
       "      <td>0.0</td>\n",
       "      <td>0.0</td>\n",
       "    </tr>\n",
       "  </tbody>\n",
       "</table>\n",
       "<p>5 rows × 44 columns</p>\n",
       "</div>"
      ],
      "text/plain": [
       "    ID  YEAR  MONTH   DAY  HOUR  MINUTE  LATITUDE  LONGITUDE  \\\n",
       "0   12  -330    NaN   NaN   NaN     NaN     40.00     25.000   \n",
       "1  481  1764    2.0  11.0   NaN     NaN     51.45     -2.583   \n",
       "2   71   859    NaN   NaN   NaN     NaN     36.08     36.250   \n",
       "3  186  1580    1.0   NaN   NaN     NaN     40.00    128.000   \n",
       "4    5 -1300    NaN   NaN   NaN     NaN     39.96     26.240   \n",
       "\n",
       "                         LOCATION_NAME      COUNTRY  ...   13   14   15   16  \\\n",
       "0  E. SPORADES ISLANDS, AEGEAN ISLANDS       GREECE  ...  0.0  0.0  0.0  0.0   \n",
       "1                     BRISTOL, ENGLAND           UK  ...  0.0  1.0  0.0  0.0   \n",
       "2                            SAMANDAGI       TURKEY  ...  0.0  0.0  0.0  0.0   \n",
       "3                           YELLOW SEA  NORTH KOREA  ...  0.0  0.0  0.0  0.0   \n",
       "4                 IONIAN COASTS, TROAD       TURKEY  ...  0.0  0.0  0.0  0.0   \n",
       "\n",
       "    17   18   19   20   21   22  \n",
       "0  0.0  0.0  0.0  0.0  0.0  0.0  \n",
       "1  0.0  0.0  0.0  0.0  0.0  0.0  \n",
       "2  0.0  0.0  0.0  0.0  0.0  0.0  \n",
       "3  0.0  0.0  0.0  0.0  0.0  0.0  \n",
       "4  0.0  0.0  0.0  0.0  0.0  0.0  \n",
       "\n",
       "[5 rows x 44 columns]"
      ]
     },
     "execution_count": 23,
     "metadata": {},
     "output_type": "execute_result"
    }
   ],
   "source": [
    "df.columns = ['ID', 'YEAR', 'MONTH', 'DAY', 'HOUR', 'MINUTE', 'LATITUDE', 'LONGITUDE',\n",
    "       'LOCATION_NAME', 'COUNTRY', 'REGION', 'CAUSE', 'EVENT_VALIDITY',\n",
    "       'EQ_MAGNITUDE', 'EQ_DEPTH', 'TS_INTENSITY', 'DAMAGE_TOTAL_DESCRIPTION',\n",
    "       'HOUSES_TOTAL_DESCRIPTION', 'DEATHS_TOTAL_DESCRIPTION', 'URL',\n",
    "       'COMMENTS']\n",
    "\n",
    "oh_encoder = OneHotEncoder(sparse=False)\n",
    "onehot= oh_encoder.fit_transform(df[[\"REGION\"]])\n",
    "\n",
    "df_onehot= pd.DataFrame(onehot)\n",
    "df_last = df.join(df_onehot)\n",
    "\n",
    "df_last.head()"
   ]
  }
 ],
 "metadata": {
  "kernelspec": {
   "display_name": "Python 3 (ipykernel)",
   "language": "python",
   "name": "python3"
  },
  "language_info": {
   "codemirror_mode": {
    "name": "ipython",
    "version": 3
   },
   "file_extension": ".py",
   "mimetype": "text/x-python",
   "name": "python",
   "nbconvert_exporter": "python",
   "pygments_lexer": "ipython3",
   "version": "3.10.4"
  }
 },
 "nbformat": 4,
 "nbformat_minor": 5
}
