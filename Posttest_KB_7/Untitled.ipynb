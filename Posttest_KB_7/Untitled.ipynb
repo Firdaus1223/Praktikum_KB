{
 "cells": [
  {
   "cell_type": "markdown",
   "id": "58da4104-9d09-489d-a5b0-6230cbb0b10d",
   "metadata": {},
   "source": [
    "Import Library tensorflow"
   ]
  },
  {
   "cell_type": "code",
   "execution_count": 47,
   "id": "75be43ef-11d7-46fd-b685-b05d75af5fe6",
   "metadata": {},
   "outputs": [],
   "source": [
    "import tensorflow as tf"
   ]
  },
  {
   "cell_type": "markdown",
   "id": "01a0f182-dd6f-4211-ad96-5d6b3a4cde7d",
   "metadata": {},
   "source": [
    "#### Buatlah sebuah tensor dengan shape(5,5) dengan nilai random yang disimpan dalam variable random_tensor"
   ]
  },
  {
   "cell_type": "code",
   "execution_count": 48,
   "id": "53ed5661-e35b-4b37-8024-75c4751629a5",
   "metadata": {},
   "outputs": [
    {
     "data": {
      "text/plain": [
       "array([[ 2.2228835 ,  3.0766966 ,  3.635548  ,  2.2836444 ,  2.215157  ],\n",
       "       [ 1.7947109 ,  3.7629523 ,  1.3837738 ,  2.6082773 ,  0.4617331 ],\n",
       "       [ 1.7798336 , -0.68091345,  1.9574771 ,  2.795014  ,  1.7191308 ],\n",
       "       [ 0.44874763,  1.3772097 ,  1.6113285 ,  3.164011  ,  2.0539563 ],\n",
       "       [ 2.494988  ,  2.3137517 ,  2.5980914 ,  3.5366259 ,  1.1340909 ]],\n",
       "      dtype=float32)"
      ]
     },
     "execution_count": 48,
     "metadata": {},
     "output_type": "execute_result"
    }
   ],
   "source": [
    "random_tensor = tf.random.normal(shape=(5, 5), mean = 2, stddev = 1, seed = 1)\n",
    "\n",
    "random_tensor.numpy()"
   ]
  },
  {
   "cell_type": "markdown",
   "id": "3426adb8-14e7-4a1c-99ef-6d2f94bef929",
   "metadata": {},
   "source": [
    "#### Buatlah sebuah tensor dengan shape(5,5) dari sebuah list dengan nilai bilangan prima dalam variable prime_tensor"
   ]
  },
  {
   "cell_type": "code",
   "execution_count": 49,
   "id": "36fddda8-ef12-4910-a8c5-fdc2b835cb6b",
   "metadata": {},
   "outputs": [
    {
     "data": {
      "text/plain": [
       "array([[  2.,   3.,   5.,   7.,  11.],\n",
       "       [ 13.,  17.,  19.,  23.,  29.],\n",
       "       [ 31.,  37.,  41.,  43.,  47.],\n",
       "       [ 53.,  59.,  61.,  71.,  73.],\n",
       "       [ 79.,  83.,  89.,  97., 101.]], dtype=float32)"
      ]
     },
     "execution_count": 49,
     "metadata": {},
     "output_type": "execute_result"
    }
   ],
   "source": [
    "prime_tensor = tf.constant([2,3,5,7,11,13,17,19,23,29,31,37,41,43,47,53,59,61,71,73,79,83,89,97,101],shape=(5,5),dtype=tf.float32)\n",
    "prime_tensor.numpy()"
   ]
  },
  {
   "cell_type": "markdown",
   "id": "a7fb7f74-82b5-406b-9374-94f4a4e50aae",
   "metadata": {},
   "source": [
    "#### Tampilkan dimensi dari kedua variable tersebut"
   ]
  },
  {
   "cell_type": "code",
   "execution_count": 50,
   "id": "c9aff933-0032-4e2a-9c95-a6341e866619",
   "metadata": {},
   "outputs": [
    {
     "name": "stdout",
     "output_type": "stream",
     "text": [
      "=======================================\n",
      "[1] Dimensi Random_Tensor :  (5, 5)\n",
      "[2] Dimensi Prime_Tensor  :  (5, 5)\n",
      "=======================================\n"
     ]
    }
   ],
   "source": [
    "print('=======================================')\n",
    "print('[1] Dimensi Random_Tensor : ',random_tensor.shape)\n",
    "print('[2] Dimensi Prime_Tensor  : ',prime_tensor.shape)\n",
    "print('=======================================')"
   ]
  },
  {
   "cell_type": "markdown",
   "id": "10739a5b-7c62-4dd2-9ca4-c05574d3180b",
   "metadata": {},
   "source": [
    "#### Tampilkan hasil dari perhitungan aritmetika 2 variable tersebut (Gunakan minimal 5 operator)"
   ]
  },
  {
   "cell_type": "code",
   "execution_count": 60,
   "id": "3bfedc88-44fa-4034-a219-f5094acffd37",
   "metadata": {},
   "outputs": [
    {
     "name": "stdout",
     "output_type": "stream",
     "text": [
      "Penjumlahan:\n",
      "\n",
      " [[  4.222883    6.0766964   8.635548    9.283645   13.215157 ]\n",
      " [ 14.794711   20.762953   20.383774   25.608276   29.461733 ]\n",
      " [ 32.779835   36.319088   42.957478   45.795013   48.71913  ]\n",
      " [ 53.448746   60.37721    62.61133    74.16401    75.053955 ]\n",
      " [ 81.49499    85.31375    91.59809   100.53663   102.134094 ]]\n"
     ]
    }
   ],
   "source": [
    "print(\"Penjumlahan:\\n\\n\" ,tf.add(random_tensor,prime_tensor).numpy())"
   ]
  },
  {
   "cell_type": "code",
   "execution_count": 59,
   "id": "137ca636-c80e-4411-8efa-f47c7a4f2e93",
   "metadata": {},
   "outputs": [
    {
     "name": "stdout",
     "output_type": "stream",
     "text": [
      "Pengurangan:\n",
      "\n",
      " [[ 2.2288346e-01  7.6696634e-02 -1.3644519e+00 -4.7163553e+00\n",
      "  -8.7848434e+00]\n",
      " [-1.1205289e+01 -1.3237047e+01 -1.7616226e+01 -2.0391724e+01\n",
      "  -2.8538267e+01]\n",
      " [-2.9220167e+01 -3.7680912e+01 -3.9042522e+01 -4.0204987e+01\n",
      "  -4.5280869e+01]\n",
      " [-5.2551254e+01 -5.7622791e+01 -5.9388672e+01 -6.7835991e+01\n",
      "  -7.0946045e+01]\n",
      " [-7.6505013e+01 -8.0686249e+01 -8.6401909e+01 -9.3463371e+01\n",
      "  -9.9865906e+01]]\n"
     ]
    }
   ],
   "source": [
    "print(\"Pengurangan:\\n\\n\" ,tf.subtract(random_tensor,prime_tensor).numpy())"
   ]
  },
  {
   "cell_type": "code",
   "execution_count": 58,
   "id": "61ffa7d8-4967-4c70-8ab3-5b54768e82c5",
   "metadata": {},
   "outputs": [
    {
     "name": "stdout",
     "output_type": "stream",
     "text": [
      "Perkalian Matrix:\n",
      "\n",
      " [[453.17535 512.0809  555.08044 619.66174 674.9836 ]\n",
      " [270.1204  312.76617 337.40353 388.58896 430.9441 ]\n",
      " [339.33664 373.7843  399.71686 446.171   469.5013 ]\n",
      " [398.70755 441.53296 470.28195 527.9827  559.0301 ]\n",
      " [392.64392 445.7386  479.62622 543.5064  589.3708 ]]\n"
     ]
    }
   ],
   "source": [
    "print(\"Perkalian Matrix:\\n\\n\" ,tf.matmul(random_tensor,prime_tensor).numpy())"
   ]
  },
  {
   "cell_type": "code",
   "execution_count": 61,
   "id": "3def5189-c42d-428a-b4d6-f8b111425dc9",
   "metadata": {},
   "outputs": [
    {
     "name": "stdout",
     "output_type": "stream",
     "text": [
      "Pembagian:\n",
      "\n",
      " [[ 1.1114417   1.0255655   0.7271096   0.3262349   0.20137791]\n",
      " [ 0.13805468  0.22135013  0.0728302   0.11340337  0.01592183]\n",
      " [ 0.05741398 -0.01840307  0.04774334  0.06500033  0.03657725]\n",
      " [ 0.00846694  0.02334254  0.02641522  0.04456354  0.02813639]\n",
      " [ 0.03158212  0.02787653  0.02919204  0.03646006  0.01122862]]\n"
     ]
    }
   ],
   "source": [
    "print(\"Pembagian:\\n\\n\" ,tf.divide(random_tensor,prime_tensor).numpy())"
   ]
  },
  {
   "cell_type": "code",
   "execution_count": 62,
   "id": "c7337dba-0d6f-45ce-980f-8f989771f593",
   "metadata": {},
   "outputs": [
    {
     "name": "stdout",
     "output_type": "stream",
     "text": [
      "Pangkat:\n",
      "\n",
      " [[4.6682553e+00 2.9373611e+01 3.4764749e+02 8.5094879e+01 2.0269746e+02]\n",
      " [9.9817398e+01 4.2669801e+04 5.8817387e+01 3.5625735e+03 4.7341013e+00]\n",
      " [4.5120676e+02 8.5544161e-02 1.4354480e+03 3.6776215e+04 7.4912598e+02]\n",
      " [5.9397030e+00 2.7468472e+02 7.5292688e+02 7.2011488e+05 6.7171289e+03]\n",
      " [5.4269617e+04 2.7559428e+04 1.1606288e+05 1.0628410e+07 1.8753513e+02]]\n"
     ]
    }
   ],
   "source": [
    "print(\"Pangkat:\\n\\n\" ,tf.pow(prime_tensor,random_tensor).numpy())"
   ]
  },
  {
   "cell_type": "code",
   "execution_count": 63,
   "id": "48e53d95-d456-40d9-a6c5-a9fc67f99930",
   "metadata": {},
   "outputs": [
    {
     "name": "stdout",
     "output_type": "stream",
     "text": [
      "Logaritma:\n",
      "\n",
      " [[ 0.7988052   1.1238565   1.2907599   0.8257726   0.7953233 ]\n",
      " [ 0.58484393  1.3252039   0.32481438  0.95869    -0.77276826]\n",
      " [ 0.57651985         nan  0.6716564   1.027837    0.5418188 ]\n",
      " [-0.8012946   0.32005945  0.477059    1.1518406   0.7197678 ]\n",
      " [ 0.9142839   0.8388703   0.9547771   1.2631731   0.12583137]]\n"
     ]
    }
   ],
   "source": [
    "print(\"Logaritma:\\n\\n\" ,tf.math.log(random_tensor,prime_tensor).numpy())"
   ]
  },
  {
   "cell_type": "markdown",
   "id": "a5926fda-fc77-41fa-8889-d0a6cb081d14",
   "metadata": {},
   "source": [
    "#### Tampilkan nilai maksimal dan minimal dari variable random_tensor"
   ]
  },
  {
   "cell_type": "code",
   "execution_count": 65,
   "id": "2e9b9320-d149-4a51-8b5f-4b43310bda62",
   "metadata": {},
   "outputs": [
    {
     "name": "stdout",
     "output_type": "stream",
     "text": [
      "input tensor: [[ 2.2228835   3.0766966   3.635548    2.2836444   2.215157  ]\n",
      " [ 1.7947109   3.7629523   1.3837738   2.6082773   0.4617331 ]\n",
      " [ 1.7798336  -0.68091345  1.9574771   2.795014    1.7191308 ]\n",
      " [ 0.44874763  1.3772097   1.6113285   3.164011    2.0539563 ]\n",
      " [ 2.494988    2.3137517   2.5980914   3.5366259   1.1340909 ]]\n",
      "=======================================\n",
      "locate the maximum : 3.7629523\n",
      "locate the maximum : -0.68091345\n",
      "=======================================\n"
     ]
    }
   ],
   "source": [
    "print(\"input tensor:\",random_tensor.numpy())\n",
    "print('=======================================')\n",
    "print(\"locate the maximum :\", tf.reduce_max(random_tensor).numpy())\n",
    "print(\"locate the maximum :\", tf.reduce_min(random_tensor).numpy())\n",
    "print('=======================================')"
   ]
  },
  {
   "cell_type": "markdown",
   "id": "48620a2d-4e0f-4822-b1e0-283838ff737b",
   "metadata": {},
   "source": [
    "#### Tampilkan hasil dari penggabungan variable random_tensor dengan prime_tensor (concatenation)"
   ]
  },
  {
   "cell_type": "code",
   "execution_count": 66,
   "id": "1cbea182-de71-49fa-a244-9cdabad7241f",
   "metadata": {},
   "outputs": [
    {
     "data": {
      "text/plain": [
       "array([[  2.2228835 ,   3.0766966 ,   3.635548  ,   2.2836444 ,\n",
       "          2.215157  ,   2.        ,   3.        ,   5.        ,\n",
       "          7.        ,  11.        ],\n",
       "       [  1.7947109 ,   3.7629523 ,   1.3837738 ,   2.6082773 ,\n",
       "          0.4617331 ,  13.        ,  17.        ,  19.        ,\n",
       "         23.        ,  29.        ],\n",
       "       [  1.7798336 ,  -0.68091345,   1.9574771 ,   2.795014  ,\n",
       "          1.7191308 ,  31.        ,  37.        ,  41.        ,\n",
       "         43.        ,  47.        ],\n",
       "       [  0.44874763,   1.3772097 ,   1.6113285 ,   3.164011  ,\n",
       "          2.0539563 ,  53.        ,  59.        ,  61.        ,\n",
       "         71.        ,  73.        ],\n",
       "       [  2.494988  ,   2.3137517 ,   2.5980914 ,   3.5366259 ,\n",
       "          1.1340909 ,  79.        ,  83.        ,  89.        ,\n",
       "         97.        , 101.        ]], dtype=float32)"
      ]
     },
     "execution_count": 66,
     "metadata": {},
     "output_type": "execute_result"
    }
   ],
   "source": [
    "concat = tf.concat([random_tensor,prime_tensor], axis = 1)\n",
    "concat.numpy()"
   ]
  },
  {
   "cell_type": "markdown",
   "id": "e026e1ae-2353-4d04-9507-b5b2d80eb016",
   "metadata": {},
   "source": [
    "#### Tampilkan hasil sorting dari kedua variable di atas. (descending)"
   ]
  },
  {
   "cell_type": "markdown",
   "id": "2fdd5ddc-588b-49c8-a2dc-2645e38670e8",
   "metadata": {},
   "source": [
    "#####  Random descending"
   ]
  },
  {
   "cell_type": "code",
   "execution_count": 67,
   "id": "ba9a701a-866d-4bea-8751-c2aa51efb16d",
   "metadata": {},
   "outputs": [
    {
     "data": {
      "text/plain": [
       "array([[ 3.635548  ,  3.0766966 ,  2.2836444 ,  2.2228835 ,  2.215157  ],\n",
       "       [ 3.7629523 ,  2.6082773 ,  1.7947109 ,  1.3837738 ,  0.4617331 ],\n",
       "       [ 2.795014  ,  1.9574771 ,  1.7798336 ,  1.7191308 , -0.68091345],\n",
       "       [ 3.164011  ,  2.0539563 ,  1.6113285 ,  1.3772097 ,  0.44874763],\n",
       "       [ 3.5366259 ,  2.5980914 ,  2.494988  ,  2.3137517 ,  1.1340909 ]],\n",
       "      dtype=float32)"
      ]
     },
     "execution_count": 67,
     "metadata": {},
     "output_type": "execute_result"
    }
   ],
   "source": [
    "sort_random = tf.sort(random_tensor, direction = 'DESCENDING')\n",
    "sort_random.numpy()"
   ]
  },
  {
   "cell_type": "markdown",
   "id": "59263a49-c601-41ec-b9e9-8a1389945be6",
   "metadata": {},
   "source": [
    "##### Prime descending"
   ]
  },
  {
   "cell_type": "code",
   "execution_count": 69,
   "id": "fd4f1bff-5af4-454c-b60e-d430ead9b648",
   "metadata": {},
   "outputs": [
    {
     "data": {
      "text/plain": [
       "array([[ 11.,   7.,   5.,   3.,   2.],\n",
       "       [ 29.,  23.,  19.,  17.,  13.],\n",
       "       [ 47.,  43.,  41.,  37.,  31.],\n",
       "       [ 73.,  71.,  61.,  59.,  53.],\n",
       "       [101.,  97.,  89.,  83.,  79.]], dtype=float32)"
      ]
     },
     "execution_count": 69,
     "metadata": {},
     "output_type": "execute_result"
    }
   ],
   "source": [
    "sort_prime = tf.sort(prime_tensor, direction = 'DESCENDING')\n",
    "sort_prime.numpy()"
   ]
  }
 ],
 "metadata": {
  "kernelspec": {
   "display_name": "Python 3 (ipykernel)",
   "language": "python",
   "name": "python3"
  },
  "language_info": {
   "codemirror_mode": {
    "name": "ipython",
    "version": 3
   },
   "file_extension": ".py",
   "mimetype": "text/x-python",
   "name": "python",
   "nbconvert_exporter": "python",
   "pygments_lexer": "ipython3",
   "version": "3.10.4"
  }
 },
 "nbformat": 4,
 "nbformat_minor": 5
}
